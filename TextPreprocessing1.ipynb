{
  "nbformat": 4,
  "nbformat_minor": 0,
  "metadata": {
    "colab": {
      "provenance": [],
      "authorship_tag": "ABX9TyN4AyrHNDHZ6dIYE06O8ooN",
      "include_colab_link": true
    },
    "kernelspec": {
      "name": "python3",
      "display_name": "Python 3"
    },
    "language_info": {
      "name": "python"
    }
  },
  "cells": [
    {
      "cell_type": "markdown",
      "metadata": {
        "id": "view-in-github",
        "colab_type": "text"
      },
      "source": [
        "<a href=\"https://colab.research.google.com/github/Omkar2703/PythonTut/blob/main/TextPreprocessing1.ipynb\" target=\"_parent\"><img src=\"https://colab.research.google.com/assets/colab-badge.svg\" alt=\"Open In Colab\"/></a>"
      ]
    },
    {
      "cell_type": "code",
      "execution_count": 90,
      "metadata": {
        "colab": {
          "base_uri": "https://localhost:8080/"
        },
        "id": "YDe2xaN_FtKs",
        "outputId": "8bd1c901-c839-4806-c002-c68b9b65cff0"
      },
      "outputs": [
        {
          "output_type": "stream",
          "name": "stdout",
          "text": [
            "Requirement already satisfied: nltk in /usr/local/lib/python3.12/dist-packages (3.9.1)\n",
            "Requirement already satisfied: click in /usr/local/lib/python3.12/dist-packages (from nltk) (8.2.1)\n",
            "Requirement already satisfied: joblib in /usr/local/lib/python3.12/dist-packages (from nltk) (1.5.1)\n",
            "Requirement already satisfied: regex>=2021.8.3 in /usr/local/lib/python3.12/dist-packages (from nltk) (2024.11.6)\n",
            "Requirement already satisfied: tqdm in /usr/local/lib/python3.12/dist-packages (from nltk) (4.67.1)\n"
          ]
        }
      ],
      "source": [
        "!pip install nltk\n"
      ]
    },
    {
      "cell_type": "code",
      "source": [
        "paragraph = \"\"\" Rohit Gurunath Sharma (born 30 April 1987) is an Indian international cricketer and the captain of the India national team in ODIs. He is also a former captain in Tests and T20Is. He is widely regarded as one of the greatest opening batters of all time, and one of the best batsmen of his generation.[3] He is a right-handed batsman who plays for Mumbai Indians in Indian Premier League and for Mumbai in domestic cricket. After the team's victory at the 2024 Men's T20 World Cup, he announced his retirement from T20Is.[4][5] He was also a member of the teams that won the 2007 T20 World Cup, the 2013 ICC Champions Trophy and was the winning captain of the 2025 ICC Champions Trophy, where he was also the player of the match in the final.\n",
        "\n",
        "Sharma holds several batting records which include most runs in T20 Internationals, most sixes in international cricket,[a] most double centuries in ODI cricket (3), most centuries at Cricket World Cups (7) and joint most hundreds in Twenty20 Internationals (5)[7].He also holds the world record for the highest individual score (264) in a One Day International (ODI) and also holds the record for scoring most hundreds (five) in a single Cricket World Cup, for which he won the ICC Men's ODI Cricketer of the Year award in 2019.[8] He is the first and only captain to lead a team in all[b] ICC tournament finals.[9]\n",
        "\n",
        "He formerly captained Mumbai Indians and the team has won five Indian Premier League titles in 2013, 2015, 2017, 2019 and 2020 under him, making him the most successful captain in IPL history, sharing this record with MS Dhoni. He is also one of two players who have played in every edition of the T20 World Cup, from the inaugural edition in 2007 to the latest one in 2024.[c] He is the only Indian player to win two T20 World Cups. He became the second Indian captain to win a T20 World Cup.\n",
        "\n",
        "He has received two national honours, the Arjuna Award in 2015 and the prestigious Khel Ratna Award in 2020 by the Government of India. Under his captaincy, India won the 2018 Asia Cup and the 2023 Asia Cup, the seventh and eighth time the country won the title, both in ODI format as well as the 2018 Nidahas Trophy, their second overall and first in T20I format. \"\"\""
      ],
      "metadata": {
        "id": "EuN84-rmF2dc"
      },
      "execution_count": 91,
      "outputs": []
    },
    {
      "cell_type": "code",
      "source": [
        "print(paragraph)"
      ],
      "metadata": {
        "colab": {
          "base_uri": "https://localhost:8080/"
        },
        "id": "NmKUE5fkGDsj",
        "outputId": "deba698a-2b0b-4760-cc34-c3196c500b12"
      },
      "execution_count": 92,
      "outputs": [
        {
          "output_type": "stream",
          "name": "stdout",
          "text": [
            " Rohit Gurunath Sharma (born 30 April 1987) is an Indian international cricketer and the captain of the India national team in ODIs. He is also a former captain in Tests and T20Is. He is widely regarded as one of the greatest opening batters of all time, and one of the best batsmen of his generation.[3] He is a right-handed batsman who plays for Mumbai Indians in Indian Premier League and for Mumbai in domestic cricket. After the team's victory at the 2024 Men's T20 World Cup, he announced his retirement from T20Is.[4][5] He was also a member of the teams that won the 2007 T20 World Cup, the 2013 ICC Champions Trophy and was the winning captain of the 2025 ICC Champions Trophy, where he was also the player of the match in the final.\n",
            "\n",
            "Sharma holds several batting records which include most runs in T20 Internationals, most sixes in international cricket,[a] most double centuries in ODI cricket (3), most centuries at Cricket World Cups (7) and joint most hundreds in Twenty20 Internationals (5)[7].He also holds the world record for the highest individual score (264) in a One Day International (ODI) and also holds the record for scoring most hundreds (five) in a single Cricket World Cup, for which he won the ICC Men's ODI Cricketer of the Year award in 2019.[8] He is the first and only captain to lead a team in all[b] ICC tournament finals.[9]\n",
            "\n",
            "He formerly captained Mumbai Indians and the team has won five Indian Premier League titles in 2013, 2015, 2017, 2019 and 2020 under him, making him the most successful captain in IPL history, sharing this record with MS Dhoni. He is also one of two players who have played in every edition of the T20 World Cup, from the inaugural edition in 2007 to the latest one in 2024.[c] He is the only Indian player to win two T20 World Cups. He became the second Indian captain to win a T20 World Cup.\n",
            "\n",
            "He has received two national honours, the Arjuna Award in 2015 and the prestigious Khel Ratna Award in 2020 by the Government of India. Under his captaincy, India won the 2018 Asia Cup and the 2023 Asia Cup, the seventh and eighth time the country won the title, both in ODI format as well as the 2018 Nidahas Trophy, their second overall and first in T20I format. \n"
          ]
        }
      ]
    },
    {
      "cell_type": "code",
      "source": [
        "import nltk"
      ],
      "metadata": {
        "id": "QNA4dqTdGHld"
      },
      "execution_count": 93,
      "outputs": []
    },
    {
      "cell_type": "code",
      "source": [
        "nltk.download('punkt_tab')"
      ],
      "metadata": {
        "colab": {
          "base_uri": "https://localhost:8080/"
        },
        "id": "lV4bvTGLGNaL",
        "outputId": "ce91b717-e2b0-436d-f218-d20fa1b09001"
      },
      "execution_count": 94,
      "outputs": [
        {
          "output_type": "stream",
          "name": "stderr",
          "text": [
            "[nltk_data] Downloading package punkt_tab to /root/nltk_data...\n",
            "[nltk_data]   Package punkt_tab is already up-to-date!\n"
          ]
        },
        {
          "output_type": "execute_result",
          "data": {
            "text/plain": [
              "True"
            ]
          },
          "metadata": {},
          "execution_count": 94
        }
      ]
    },
    {
      "cell_type": "code",
      "source": [
        "sentences = nltk.sent_tokenize(paragraph)"
      ],
      "metadata": {
        "id": "XrMifX7dGQW5"
      },
      "execution_count": 95,
      "outputs": []
    },
    {
      "cell_type": "code",
      "source": [
        "print(sentences)"
      ],
      "metadata": {
        "colab": {
          "base_uri": "https://localhost:8080/"
        },
        "id": "xhXvwEOFGaSU",
        "outputId": "5fc91ffe-5a0c-4be3-967f-65c2d653a7b1"
      },
      "execution_count": 96,
      "outputs": [
        {
          "output_type": "stream",
          "name": "stdout",
          "text": [
            "[' Rohit Gurunath Sharma (born 30 April 1987) is an Indian international cricketer and the captain of the India national team in ODIs.', 'He is also a former captain in Tests and T20Is.', 'He is widely regarded as one of the greatest opening batters of all time, and one of the best batsmen of his generation.', '[3] He is a right-handed batsman who plays for Mumbai Indians in Indian Premier League and for Mumbai in domestic cricket.', \"After the team's victory at the 2024 Men's T20 World Cup, he announced his retirement from T20Is.\", '[4][5] He was also a member of the teams that won the 2007 T20 World Cup, the 2013 ICC Champions Trophy and was the winning captain of the 2025 ICC Champions Trophy, where he was also the player of the match in the final.', \"Sharma holds several batting records which include most runs in T20 Internationals, most sixes in international cricket,[a] most double centuries in ODI cricket (3), most centuries at Cricket World Cups (7) and joint most hundreds in Twenty20 Internationals (5)[7].He also holds the world record for the highest individual score (264) in a One Day International (ODI) and also holds the record for scoring most hundreds (five) in a single Cricket World Cup, for which he won the ICC Men's ODI Cricketer of the Year award in 2019.\", '[8] He is the first and only captain to lead a team in all[b] ICC tournament finals.', '[9]\\n\\nHe formerly captained Mumbai Indians and the team has won five Indian Premier League titles in 2013, 2015, 2017, 2019 and 2020 under him, making him the most successful captain in IPL history, sharing this record with MS Dhoni.', 'He is also one of two players who have played in every edition of the T20 World Cup, from the inaugural edition in 2007 to the latest one in 2024.', '[c] He is the only Indian player to win two T20 World Cups.', 'He became the second Indian captain to win a T20 World Cup.', 'He has received two national honours, the Arjuna Award in 2015 and the prestigious Khel Ratna Award in 2020 by the Government of India.', 'Under his captaincy, India won the 2018 Asia Cup and the 2023 Asia Cup, the seventh and eighth time the country won the title, both in ODI format as well as the 2018 Nidahas Trophy, their second overall and first in T20I format.']\n"
          ]
        }
      ]
    },
    {
      "cell_type": "code",
      "source": [
        "type(sentences)"
      ],
      "metadata": {
        "colab": {
          "base_uri": "https://localhost:8080/"
        },
        "id": "pk-0TacHGe2m",
        "outputId": "94dfbfa3-4a61-46ba-93be-30d2bafaf796"
      },
      "execution_count": 97,
      "outputs": [
        {
          "output_type": "execute_result",
          "data": {
            "text/plain": [
              "list"
            ]
          },
          "metadata": {},
          "execution_count": 97
        }
      ]
    },
    {
      "cell_type": "code",
      "source": [
        "from nltk.stem import PorterStemmer\n",
        "from nltk.corpus import stopwords"
      ],
      "metadata": {
        "id": "LSphFoobGheC"
      },
      "execution_count": 98,
      "outputs": []
    },
    {
      "cell_type": "code",
      "source": [
        "stemmer = PorterStemmer()"
      ],
      "metadata": {
        "id": "xGejDOGMGwnD"
      },
      "execution_count": 99,
      "outputs": []
    },
    {
      "cell_type": "code",
      "source": [
        "stemmer.stem('history')"
      ],
      "metadata": {
        "colab": {
          "base_uri": "https://localhost:8080/",
          "height": 56
        },
        "id": "QxgdzBcfG88R",
        "outputId": "033f263f-6918-450c-dffa-c26252b2464d"
      },
      "execution_count": 100,
      "outputs": [
        {
          "output_type": "execute_result",
          "data": {
            "text/plain": [
              "'histori'"
            ],
            "application/vnd.google.colaboratory.intrinsic+json": {
              "type": "string"
            }
          },
          "metadata": {},
          "execution_count": 100
        }
      ]
    },
    {
      "cell_type": "code",
      "source": [
        "from nltk.stem import WordNetLemmatizer\n",
        "from nltk.corpus import wordnet"
      ],
      "metadata": {
        "id": "XijrivKQHCAx"
      },
      "execution_count": 101,
      "outputs": []
    },
    {
      "cell_type": "code",
      "source": [
        "lemmatizer = WordNetLemmatizer()"
      ],
      "metadata": {
        "id": "-17JvdocHUXG"
      },
      "execution_count": 102,
      "outputs": []
    },
    {
      "cell_type": "code",
      "metadata": {
        "colab": {
          "base_uri": "https://localhost:8080/"
        },
        "id": "0f20a467",
        "outputId": "fc93da5d-c1b5-423c-8652-e606d0cc66af"
      },
      "source": [
        "nltk.download('wordnet')"
      ],
      "execution_count": 103,
      "outputs": [
        {
          "output_type": "stream",
          "name": "stderr",
          "text": [
            "[nltk_data] Downloading package wordnet to /root/nltk_data...\n",
            "[nltk_data]   Package wordnet is already up-to-date!\n"
          ]
        },
        {
          "output_type": "execute_result",
          "data": {
            "text/plain": [
              "True"
            ]
          },
          "metadata": {},
          "execution_count": 103
        }
      ]
    },
    {
      "cell_type": "code",
      "source": [
        "lemmatizer.lemmatize('history')"
      ],
      "metadata": {
        "colab": {
          "base_uri": "https://localhost:8080/",
          "height": 56
        },
        "id": "_TRN-AilI6tS",
        "outputId": "76ff8bb8-92ea-407b-ba13-27a2032820a1"
      },
      "execution_count": 104,
      "outputs": [
        {
          "output_type": "execute_result",
          "data": {
            "text/plain": [
              "'history'"
            ],
            "application/vnd.google.colaboratory.intrinsic+json": {
              "type": "string"
            }
          },
          "metadata": {},
          "execution_count": 104
        }
      ]
    },
    {
      "cell_type": "code",
      "source": [
        "len(sentences)"
      ],
      "metadata": {
        "colab": {
          "base_uri": "https://localhost:8080/"
        },
        "id": "JU4urpQhJOxL",
        "outputId": "22591570-7c46-4f27-8468-66b9a82805a0"
      },
      "execution_count": 105,
      "outputs": [
        {
          "output_type": "execute_result",
          "data": {
            "text/plain": [
              "14"
            ]
          },
          "metadata": {},
          "execution_count": 105
        }
      ]
    },
    {
      "cell_type": "code",
      "source": [
        "import re"
      ],
      "metadata": {
        "id": "W5MaQ6ugJQzq"
      },
      "execution_count": 106,
      "outputs": []
    },
    {
      "cell_type": "code",
      "source": [
        "corpus = []\n",
        "for i in range(len(sentences)):\n",
        "  review = re.sub('[^a-zA-Z]', ' ', sentences[i])\n",
        "  review = review.lower()\n",
        "  corpus.append(review)"
      ],
      "metadata": {
        "id": "g4JaGXTsJSw5"
      },
      "execution_count": 107,
      "outputs": []
    },
    {
      "cell_type": "code",
      "source": [
        "corpus"
      ],
      "metadata": {
        "colab": {
          "base_uri": "https://localhost:8080/"
        },
        "id": "EtqsRtTDJ0zS",
        "outputId": "47f69229-d183-4663-db87-afca3dd99abe"
      },
      "execution_count": 108,
      "outputs": [
        {
          "output_type": "execute_result",
          "data": {
            "text/plain": [
              "[' rohit gurunath sharma  born    april       is an indian international cricketer and the captain of the india national team in odis ',\n",
              " 'he is also a former captain in tests and t  is ',\n",
              " 'he is widely regarded as one of the greatest opening batters of all time  and one of the best batsmen of his generation ',\n",
              " '    he is a right handed batsman who plays for mumbai indians in indian premier league and for mumbai in domestic cricket ',\n",
              " 'after the team s victory at the      men s t   world cup  he announced his retirement from t  is ',\n",
              " '       he was also a member of the teams that won the      t   world cup  the      icc champions trophy and was the winning captain of the      icc champions trophy  where he was also the player of the match in the final ',\n",
              " 'sharma holds several batting records which include most runs in t   internationals  most sixes in international cricket  a  most double centuries in odi cricket      most centuries at cricket world cups     and joint most hundreds in twenty   internationals        he also holds the world record for the highest individual score       in a one day international  odi  and also holds the record for scoring most hundreds  five  in a single cricket world cup  for which he won the icc men s odi cricketer of the year award in      ',\n",
              " '    he is the first and only captain to lead a team in all b  icc tournament finals ',\n",
              " '     he formerly captained mumbai indians and the team has won five indian premier league titles in                        and      under him  making him the most successful captain in ipl history  sharing this record with ms dhoni ',\n",
              " 'he is also one of two players who have played in every edition of the t   world cup  from the inaugural edition in      to the latest one in      ',\n",
              " ' c  he is the only indian player to win two t   world cups ',\n",
              " 'he became the second indian captain to win a t   world cup ',\n",
              " 'he has received two national honours  the arjuna award in      and the prestigious khel ratna award in      by the government of india ',\n",
              " 'under his captaincy  india won the      asia cup and the      asia cup  the seventh and eighth time the country won the title  both in odi format as well as the      nidahas trophy  their second overall and first in t  i format ']"
            ]
          },
          "metadata": {},
          "execution_count": 108
        }
      ]
    },
    {
      "cell_type": "code",
      "source": [
        "nltk.download('stopwords')"
      ],
      "metadata": {
        "colab": {
          "base_uri": "https://localhost:8080/"
        },
        "id": "bWdD-TKxKwRk",
        "outputId": "df59497f-6d8d-45e5-ccb8-d76800f3c88f"
      },
      "execution_count": 109,
      "outputs": [
        {
          "output_type": "stream",
          "name": "stderr",
          "text": [
            "[nltk_data] Downloading package stopwords to /root/nltk_data...\n",
            "[nltk_data]   Package stopwords is already up-to-date!\n"
          ]
        },
        {
          "output_type": "execute_result",
          "data": {
            "text/plain": [
              "True"
            ]
          },
          "metadata": {},
          "execution_count": 109
        }
      ]
    },
    {
      "cell_type": "code",
      "source": [
        "for i in corpus:\n",
        "  words = nltk.word_tokenize(i)\n",
        "  for word in words:\n",
        "    if word not in set(stopwords.words('english')):\n",
        "      print(stemmer.stem(word))"
      ],
      "metadata": {
        "colab": {
          "base_uri": "https://localhost:8080/"
        },
        "id": "5p7zCeBEKDPx",
        "outputId": "cbac7f90-6470-4240-d030-a3c69211ae32"
      },
      "execution_count": 110,
      "outputs": [
        {
          "output_type": "stream",
          "name": "stdout",
          "text": [
            "rohit\n",
            "gurunath\n",
            "sharma\n",
            "born\n",
            "april\n",
            "indian\n",
            "intern\n",
            "cricket\n",
            "captain\n",
            "india\n",
            "nation\n",
            "team\n",
            "odi\n",
            "also\n",
            "former\n",
            "captain\n",
            "test\n",
            "wide\n",
            "regard\n",
            "one\n",
            "greatest\n",
            "open\n",
            "batter\n",
            "time\n",
            "one\n",
            "best\n",
            "batsmen\n",
            "gener\n",
            "right\n",
            "hand\n",
            "batsman\n",
            "play\n",
            "mumbai\n",
            "indian\n",
            "indian\n",
            "premier\n",
            "leagu\n",
            "mumbai\n",
            "domest\n",
            "cricket\n",
            "team\n",
            "victori\n",
            "men\n",
            "world\n",
            "cup\n",
            "announc\n",
            "retir\n",
            "also\n",
            "member\n",
            "team\n",
            "world\n",
            "cup\n",
            "icc\n",
            "champion\n",
            "trophi\n",
            "win\n",
            "captain\n",
            "icc\n",
            "champion\n",
            "trophi\n",
            "also\n",
            "player\n",
            "match\n",
            "final\n",
            "sharma\n",
            "hold\n",
            "sever\n",
            "bat\n",
            "record\n",
            "includ\n",
            "run\n",
            "intern\n",
            "six\n",
            "intern\n",
            "cricket\n",
            "doubl\n",
            "centuri\n",
            "odi\n",
            "cricket\n",
            "centuri\n",
            "cricket\n",
            "world\n",
            "cup\n",
            "joint\n",
            "hundr\n",
            "twenti\n",
            "intern\n",
            "also\n",
            "hold\n",
            "world\n",
            "record\n",
            "highest\n",
            "individu\n",
            "score\n",
            "one\n",
            "day\n",
            "intern\n",
            "odi\n",
            "also\n",
            "hold\n",
            "record\n",
            "score\n",
            "hundr\n",
            "five\n",
            "singl\n",
            "cricket\n",
            "world\n",
            "cup\n",
            "icc\n",
            "men\n",
            "odi\n",
            "cricket\n",
            "year\n",
            "award\n",
            "first\n",
            "captain\n",
            "lead\n",
            "team\n",
            "b\n",
            "icc\n",
            "tournament\n",
            "final\n",
            "formerli\n",
            "captain\n",
            "mumbai\n",
            "indian\n",
            "team\n",
            "five\n",
            "indian\n",
            "premier\n",
            "leagu\n",
            "titl\n",
            "make\n",
            "success\n",
            "captain\n",
            "ipl\n",
            "histori\n",
            "share\n",
            "record\n",
            "ms\n",
            "dhoni\n",
            "also\n",
            "one\n",
            "two\n",
            "player\n",
            "play\n",
            "everi\n",
            "edit\n",
            "world\n",
            "cup\n",
            "inaugur\n",
            "edit\n",
            "latest\n",
            "one\n",
            "c\n",
            "indian\n",
            "player\n",
            "win\n",
            "two\n",
            "world\n",
            "cup\n",
            "becam\n",
            "second\n",
            "indian\n",
            "captain\n",
            "win\n",
            "world\n",
            "cup\n",
            "receiv\n",
            "two\n",
            "nation\n",
            "honour\n",
            "arjuna\n",
            "award\n",
            "prestigi\n",
            "khel\n",
            "ratna\n",
            "award\n",
            "govern\n",
            "india\n",
            "captainci\n",
            "india\n",
            "asia\n",
            "cup\n",
            "asia\n",
            "cup\n",
            "seventh\n",
            "eighth\n",
            "time\n",
            "countri\n",
            "titl\n",
            "odi\n",
            "format\n",
            "well\n",
            "nidaha\n",
            "trophi\n",
            "second\n",
            "overal\n",
            "first\n",
            "format\n"
          ]
        }
      ]
    },
    {
      "cell_type": "code",
      "source": [
        "for i in corpus:\n",
        "  words = nltk.word_tokenize(i)\n",
        "  for word in words:\n",
        "    if word not in set(stopwords.words('english')):\n",
        "      print(lemmatizer.lemmatize(word))"
      ],
      "metadata": {
        "colab": {
          "base_uri": "https://localhost:8080/"
        },
        "id": "b5x-iq0yK_nx",
        "outputId": "85478590-ac2b-4ef4-8389-936df7e38992"
      },
      "execution_count": 111,
      "outputs": [
        {
          "output_type": "stream",
          "name": "stdout",
          "text": [
            "rohit\n",
            "gurunath\n",
            "sharma\n",
            "born\n",
            "april\n",
            "indian\n",
            "international\n",
            "cricketer\n",
            "captain\n",
            "india\n",
            "national\n",
            "team\n",
            "odis\n",
            "also\n",
            "former\n",
            "captain\n",
            "test\n",
            "widely\n",
            "regarded\n",
            "one\n",
            "greatest\n",
            "opening\n",
            "batter\n",
            "time\n",
            "one\n",
            "best\n",
            "batsman\n",
            "generation\n",
            "right\n",
            "handed\n",
            "batsman\n",
            "play\n",
            "mumbai\n",
            "indian\n",
            "indian\n",
            "premier\n",
            "league\n",
            "mumbai\n",
            "domestic\n",
            "cricket\n",
            "team\n",
            "victory\n",
            "men\n",
            "world\n",
            "cup\n",
            "announced\n",
            "retirement\n",
            "also\n",
            "member\n",
            "team\n",
            "world\n",
            "cup\n",
            "icc\n",
            "champion\n",
            "trophy\n",
            "winning\n",
            "captain\n",
            "icc\n",
            "champion\n",
            "trophy\n",
            "also\n",
            "player\n",
            "match\n",
            "final\n",
            "sharma\n",
            "hold\n",
            "several\n",
            "batting\n",
            "record\n",
            "include\n",
            "run\n",
            "international\n",
            "six\n",
            "international\n",
            "cricket\n",
            "double\n",
            "century\n",
            "odi\n",
            "cricket\n",
            "century\n",
            "cricket\n",
            "world\n",
            "cup\n",
            "joint\n",
            "hundred\n",
            "twenty\n",
            "international\n",
            "also\n",
            "hold\n",
            "world\n",
            "record\n",
            "highest\n",
            "individual\n",
            "score\n",
            "one\n",
            "day\n",
            "international\n",
            "odi\n",
            "also\n",
            "hold\n",
            "record\n",
            "scoring\n",
            "hundred\n",
            "five\n",
            "single\n",
            "cricket\n",
            "world\n",
            "cup\n",
            "icc\n",
            "men\n",
            "odi\n",
            "cricketer\n",
            "year\n",
            "award\n",
            "first\n",
            "captain\n",
            "lead\n",
            "team\n",
            "b\n",
            "icc\n",
            "tournament\n",
            "final\n",
            "formerly\n",
            "captained\n",
            "mumbai\n",
            "indian\n",
            "team\n",
            "five\n",
            "indian\n",
            "premier\n",
            "league\n",
            "title\n",
            "making\n",
            "successful\n",
            "captain\n",
            "ipl\n",
            "history\n",
            "sharing\n",
            "record\n",
            "m\n",
            "dhoni\n",
            "also\n",
            "one\n",
            "two\n",
            "player\n",
            "played\n",
            "every\n",
            "edition\n",
            "world\n",
            "cup\n",
            "inaugural\n",
            "edition\n",
            "latest\n",
            "one\n",
            "c\n",
            "indian\n",
            "player\n",
            "win\n",
            "two\n",
            "world\n",
            "cup\n",
            "became\n",
            "second\n",
            "indian\n",
            "captain\n",
            "win\n",
            "world\n",
            "cup\n",
            "received\n",
            "two\n",
            "national\n",
            "honour\n",
            "arjuna\n",
            "award\n",
            "prestigious\n",
            "khel\n",
            "ratna\n",
            "award\n",
            "government\n",
            "india\n",
            "captaincy\n",
            "india\n",
            "asia\n",
            "cup\n",
            "asia\n",
            "cup\n",
            "seventh\n",
            "eighth\n",
            "time\n",
            "country\n",
            "title\n",
            "odi\n",
            "format\n",
            "well\n",
            "nidahas\n",
            "trophy\n",
            "second\n",
            "overall\n",
            "first\n",
            "format\n"
          ]
        }
      ]
    },
    {
      "cell_type": "code",
      "source": [
        "from sklearn.feature_extraction.text import CountVectorizer\n",
        "cv = CountVectorizer(binary=True, ngram_range = (2, 3))"
      ],
      "metadata": {
        "id": "A9vsqR3WLIyw"
      },
      "execution_count": 117,
      "outputs": []
    },
    {
      "cell_type": "code",
      "source": [
        "X = cv.fit_transform(corpus)"
      ],
      "metadata": {
        "id": "jxE1O0eVLbsc"
      },
      "execution_count": 118,
      "outputs": []
    },
    {
      "cell_type": "code",
      "source": [
        "cv.vocabulary_"
      ],
      "metadata": {
        "colab": {
          "base_uri": "https://localhost:8080/"
        },
        "id": "GlgBTUpcLhlA",
        "outputId": "cd33f804-79e7-43ba-8490-8fcb6378726c"
      },
      "execution_count": 119,
      "outputs": [
        {
          "output_type": "execute_result",
          "data": {
            "text/plain": [
              "{'rohit gurunath': 427,\n",
              " 'gurunath sharma': 169,\n",
              " 'sharma born': 445,\n",
              " 'born april': 76,\n",
              " 'april is': 44,\n",
              " 'is an': 301,\n",
              " 'an indian': 16,\n",
              " 'indian international': 274,\n",
              " 'international cricketer': 288,\n",
              " 'cricketer and': 109,\n",
              " 'and the': 33,\n",
              " 'the captain': 474,\n",
              " 'captain of': 85,\n",
              " 'of the': 370,\n",
              " 'the india': 492,\n",
              " 'india national': 268,\n",
              " 'national team': 353,\n",
              " 'team in': 457,\n",
              " 'in odis': 251,\n",
              " 'rohit gurunath sharma': 428,\n",
              " 'gurunath sharma born': 170,\n",
              " 'sharma born april': 446,\n",
              " 'born april is': 77,\n",
              " 'april is an': 45,\n",
              " 'is an indian': 302,\n",
              " 'an indian international': 17,\n",
              " 'indian international cricketer': 275,\n",
              " 'international cricketer and': 289,\n",
              " 'cricketer and the': 110,\n",
              " 'and the captain': 35,\n",
              " 'the captain of': 475,\n",
              " 'captain of the': 86,\n",
              " 'of the india': 374,\n",
              " 'the india national': 493,\n",
              " 'india national team': 269,\n",
              " 'national team in': 354,\n",
              " 'team in odis': 459,\n",
              " 'he is': 189,\n",
              " 'is also': 298,\n",
              " 'also former': 6,\n",
              " 'former captain': 158,\n",
              " 'captain in': 82,\n",
              " 'in tests': 256,\n",
              " 'tests and': 464,\n",
              " 'and is': 26,\n",
              " 'he is also': 190,\n",
              " 'is also former': 299,\n",
              " 'also former captain': 7,\n",
              " 'former captain in': 159,\n",
              " 'captain in tests': 84,\n",
              " 'in tests and': 257,\n",
              " 'tests and is': 465,\n",
              " 'is widely': 308,\n",
              " 'widely regarded': 587,\n",
              " 'regarded as': 421,\n",
              " 'as one': 48,\n",
              " 'one of': 384,\n",
              " 'the greatest': 483,\n",
              " 'greatest opening': 167,\n",
              " 'opening batters': 391,\n",
              " 'batters of': 68,\n",
              " 'of all': 365,\n",
              " 'all time': 4,\n",
              " 'time and': 534,\n",
              " 'and one': 29,\n",
              " 'the best': 472,\n",
              " 'best batsmen': 74,\n",
              " 'batsmen of': 66,\n",
              " 'of his': 367,\n",
              " 'his generation': 206,\n",
              " 'he is widely': 193,\n",
              " 'is widely regarded': 309,\n",
              " 'widely regarded as': 588,\n",
              " 'regarded as one': 422,\n",
              " 'as one of': 49,\n",
              " 'one of the': 385,\n",
              " 'of the greatest': 372,\n",
              " 'the greatest opening': 484,\n",
              " 'greatest opening batters': 168,\n",
              " 'opening batters of': 392,\n",
              " 'batters of all': 69,\n",
              " 'of all time': 366,\n",
              " 'all time and': 5,\n",
              " 'time and one': 535,\n",
              " 'and one of': 30,\n",
              " 'of the best': 371,\n",
              " 'the best batsmen': 473,\n",
              " 'best batsmen of': 75,\n",
              " 'batsmen of his': 67,\n",
              " 'of his generation': 368,\n",
              " 'is right': 303,\n",
              " 'right handed': 425,\n",
              " 'handed batsman': 171,\n",
              " 'batsman who': 64,\n",
              " 'who plays': 585,\n",
              " 'plays for': 403,\n",
              " 'for mumbai': 147,\n",
              " 'mumbai indians': 348,\n",
              " 'indians in': 282,\n",
              " 'in indian': 240,\n",
              " 'indian premier': 278,\n",
              " 'premier league': 405,\n",
              " 'league and': 318,\n",
              " 'and for': 24,\n",
              " 'mumbai in': 346,\n",
              " 'in domestic': 235,\n",
              " 'domestic cricket': 128,\n",
              " 'he is right': 191,\n",
              " 'is right handed': 304,\n",
              " 'right handed batsman': 426,\n",
              " 'handed batsman who': 172,\n",
              " 'batsman who plays': 65,\n",
              " 'who plays for': 586,\n",
              " 'plays for mumbai': 404,\n",
              " 'for mumbai indians': 149,\n",
              " 'mumbai indians in': 350,\n",
              " 'indians in indian': 283,\n",
              " 'in indian premier': 241,\n",
              " 'indian premier league': 279,\n",
              " 'premier league and': 406,\n",
              " 'league and for': 319,\n",
              " 'and for mumbai': 25,\n",
              " 'for mumbai in': 148,\n",
              " 'mumbai in domestic': 347,\n",
              " 'in domestic cricket': 236,\n",
              " 'after the': 0,\n",
              " 'the team': 516,\n",
              " 'team victory': 460,\n",
              " 'victory at': 568,\n",
              " 'at the': 59,\n",
              " 'the men': 498,\n",
              " 'men world': 330,\n",
              " 'world cup': 604,\n",
              " 'cup he': 119,\n",
              " 'he announced': 181,\n",
              " 'announced his': 42,\n",
              " 'his retirement': 207,\n",
              " 'retirement from': 423,\n",
              " 'from is': 162,\n",
              " 'after the team': 1,\n",
              " 'the team victory': 518,\n",
              " 'team victory at': 461,\n",
              " 'victory at the': 569,\n",
              " 'at the men': 60,\n",
              " 'the men world': 499,\n",
              " 'men world cup': 331,\n",
              " 'world cup he': 607,\n",
              " 'cup he announced': 120,\n",
              " 'he announced his': 182,\n",
              " 'announced his retirement': 43,\n",
              " 'his retirement from': 208,\n",
              " 'retirement from is': 424,\n",
              " 'he was': 194,\n",
              " 'was also': 570,\n",
              " 'also member': 10,\n",
              " 'member of': 326,\n",
              " 'the teams': 519,\n",
              " 'teams that': 462,\n",
              " 'that won': 466,\n",
              " 'won the': 599,\n",
              " 'the world': 525,\n",
              " 'cup the': 121,\n",
              " 'the icc': 487,\n",
              " 'icc champions': 222,\n",
              " 'champions trophy': 98,\n",
              " 'trophy and': 550,\n",
              " 'and was': 40,\n",
              " 'was the': 573,\n",
              " 'the winning': 523,\n",
              " 'winning captain': 593,\n",
              " 'trophy where': 554,\n",
              " 'where he': 577,\n",
              " 'also the': 14,\n",
              " 'the player': 506,\n",
              " 'player of': 397,\n",
              " 'the match': 496,\n",
              " 'match in': 324,\n",
              " 'in the': 258,\n",
              " 'the final': 478,\n",
              " 'he was also': 195,\n",
              " 'was also member': 571,\n",
              " 'also member of': 11,\n",
              " 'member of the': 327,\n",
              " 'of the teams': 376,\n",
              " 'the teams that': 520,\n",
              " 'teams that won': 463,\n",
              " 'that won the': 467,\n",
              " 'won the world': 603,\n",
              " 'the world cup': 526,\n",
              " 'world cup the': 608,\n",
              " 'cup the icc': 122,\n",
              " 'the icc champions': 488,\n",
              " 'icc champions trophy': 223,\n",
              " 'champions trophy and': 99,\n",
              " 'trophy and was': 551,\n",
              " 'and was the': 41,\n",
              " 'was the winning': 574,\n",
              " 'the winning captain': 524,\n",
              " 'winning captain of': 594,\n",
              " 'of the icc': 373,\n",
              " 'champions trophy where': 100,\n",
              " 'trophy where he': 555,\n",
              " 'where he was': 578,\n",
              " 'was also the': 572,\n",
              " 'also the player': 15,\n",
              " 'the player of': 507,\n",
              " 'player of the': 398,\n",
              " 'of the match': 375,\n",
              " 'the match in': 497,\n",
              " 'match in the': 325,\n",
              " 'in the final': 259,\n",
              " 'sharma holds': 447,\n",
              " 'holds several': 211,\n",
              " 'several batting': 441,\n",
              " 'batting records': 70,\n",
              " 'records which': 419,\n",
              " 'which include': 581,\n",
              " 'include most': 266,\n",
              " 'most runs': 339,\n",
              " 'runs in': 429,\n",
              " 'in internationals': 244,\n",
              " 'internationals most': 294,\n",
              " 'most sixes': 341,\n",
              " 'sixes in': 451,\n",
              " 'in international': 242,\n",
              " 'international cricket': 286,\n",
              " 'cricket most': 103,\n",
              " 'most double': 334,\n",
              " 'double centuries': 129,\n",
              " 'centuries in': 96,\n",
              " 'in odi': 248,\n",
              " 'odi cricket': 359,\n",
              " 'most centuries': 332,\n",
              " 'centuries at': 94,\n",
              " 'at cricket': 57,\n",
              " 'cricket world': 106,\n",
              " 'world cups': 609,\n",
              " 'cups and': 124,\n",
              " 'and joint': 27,\n",
              " 'joint most': 310,\n",
              " 'most hundreds': 336,\n",
              " 'hundreds in': 220,\n",
              " 'in twenty': 262,\n",
              " 'twenty internationals': 556,\n",
              " 'internationals he': 292,\n",
              " 'he also': 179,\n",
              " 'also holds': 8,\n",
              " 'holds the': 213,\n",
              " 'world record': 611,\n",
              " 'record for': 414,\n",
              " 'for the': 152,\n",
              " 'the highest': 485,\n",
              " 'highest individual': 198,\n",
              " 'individual score': 284,\n",
              " 'score in': 431,\n",
              " 'in one': 252,\n",
              " 'one day': 381,\n",
              " 'day international': 126,\n",
              " 'international odi': 290,\n",
              " 'odi and': 357,\n",
              " 'and also': 18,\n",
              " 'the record': 510,\n",
              " 'for scoring': 150,\n",
              " 'scoring most': 433,\n",
              " 'hundreds five': 218,\n",
              " 'five in': 143,\n",
              " 'in single': 254,\n",
              " 'single cricket': 449,\n",
              " 'cup for': 115,\n",
              " 'for which': 154,\n",
              " 'which he': 579,\n",
              " 'he won': 196,\n",
              " 'icc men': 224,\n",
              " 'men odi': 328,\n",
              " 'odi cricketer': 361,\n",
              " 'cricketer of': 111,\n",
              " 'the year': 528,\n",
              " 'year award': 613,\n",
              " 'award in': 61,\n",
              " 'sharma holds several': 448,\n",
              " 'holds several batting': 212,\n",
              " 'several batting records': 442,\n",
              " 'batting records which': 71,\n",
              " 'records which include': 420,\n",
              " 'which include most': 582,\n",
              " 'include most runs': 267,\n",
              " 'most runs in': 340,\n",
              " 'runs in internationals': 430,\n",
              " 'in internationals most': 245,\n",
              " 'internationals most sixes': 295,\n",
              " 'most sixes in': 342,\n",
              " 'sixes in international': 452,\n",
              " 'in international cricket': 243,\n",
              " 'international cricket most': 287,\n",
              " 'cricket most double': 105,\n",
              " 'most double centuries': 335,\n",
              " 'double centuries in': 130,\n",
              " 'centuries in odi': 97,\n",
              " 'in odi cricket': 249,\n",
              " 'odi cricket most': 360,\n",
              " 'cricket most centuries': 104,\n",
              " 'most centuries at': 333,\n",
              " 'centuries at cricket': 95,\n",
              " 'at cricket world': 58,\n",
              " 'cricket world cups': 108,\n",
              " 'world cups and': 610,\n",
              " 'cups and joint': 125,\n",
              " 'and joint most': 28,\n",
              " 'joint most hundreds': 311,\n",
              " 'most hundreds in': 338,\n",
              " 'hundreds in twenty': 221,\n",
              " 'in twenty internationals': 263,\n",
              " 'twenty internationals he': 557,\n",
              " 'internationals he also': 293,\n",
              " 'he also holds': 180,\n",
              " 'also holds the': 9,\n",
              " 'holds the world': 215,\n",
              " 'the world record': 527,\n",
              " 'world record for': 612,\n",
              " 'record for the': 416,\n",
              " 'for the highest': 153,\n",
              " 'the highest individual': 486,\n",
              " 'highest individual score': 199,\n",
              " 'individual score in': 285,\n",
              " 'score in one': 432,\n",
              " 'in one day': 253,\n",
              " 'one day international': 382,\n",
              " 'day international odi': 127,\n",
              " 'international odi and': 291,\n",
              " 'odi and also': 358,\n",
              " 'and also holds': 19,\n",
              " 'holds the record': 214,\n",
              " 'the record for': 511,\n",
              " 'record for scoring': 415,\n",
              " 'for scoring most': 151,\n",
              " 'scoring most hundreds': 434,\n",
              " 'most hundreds five': 337,\n",
              " 'hundreds five in': 219,\n",
              " 'five in single': 144,\n",
              " 'in single cricket': 255,\n",
              " 'single cricket world': 450,\n",
              " 'cricket world cup': 107,\n",
              " 'world cup for': 605,\n",
              " 'cup for which': 116,\n",
              " 'for which he': 155,\n",
              " 'which he won': 580,\n",
              " 'he won the': 197,\n",
              " 'won the icc': 601,\n",
              " 'the icc men': 489,\n",
              " 'icc men odi': 225,\n",
              " 'men odi cricketer': 329,\n",
              " 'odi cricketer of': 362,\n",
              " 'cricketer of the': 112,\n",
              " 'of the year': 378,\n",
              " 'the year award': 529,\n",
              " 'year award in': 614,\n",
              " 'is the': 305,\n",
              " 'the first': 479,\n",
              " 'first and': 139,\n",
              " 'and only': 31,\n",
              " 'only captain': 387,\n",
              " 'captain to': 87,\n",
              " 'to lead': 542,\n",
              " 'lead team': 316,\n",
              " 'in all': 228,\n",
              " 'all icc': 2,\n",
              " 'icc tournament': 226,\n",
              " 'tournament finals': 549,\n",
              " 'he is the': 192,\n",
              " 'is the first': 306,\n",
              " 'the first and': 480,\n",
              " 'first and only': 140,\n",
              " 'and only captain': 32,\n",
              " 'only captain to': 388,\n",
              " 'captain to lead': 88,\n",
              " 'to lead team': 543,\n",
              " 'lead team in': 317,\n",
              " 'team in all': 458,\n",
              " 'in all icc': 229,\n",
              " 'all icc tournament': 3,\n",
              " 'icc tournament finals': 227,\n",
              " 'he formerly': 185,\n",
              " 'formerly captained': 160,\n",
              " 'captained mumbai': 92,\n",
              " 'indians and': 280,\n",
              " 'team has': 455,\n",
              " 'has won': 175,\n",
              " 'won five': 597,\n",
              " 'five indian': 145,\n",
              " 'league titles': 320,\n",
              " 'titles in': 540,\n",
              " 'in and': 230,\n",
              " 'and under': 38,\n",
              " 'under him': 564,\n",
              " 'him making': 200,\n",
              " 'making him': 322,\n",
              " 'him the': 202,\n",
              " 'the most': 500,\n",
              " 'most successful': 343,\n",
              " 'successful captain': 453,\n",
              " 'in ipl': 246,\n",
              " 'ipl history': 296,\n",
              " 'history sharing': 209,\n",
              " 'sharing this': 443,\n",
              " 'this record': 532,\n",
              " 'record with': 417,\n",
              " 'with ms': 595,\n",
              " 'ms dhoni': 345,\n",
              " 'he formerly captained': 186,\n",
              " 'formerly captained mumbai': 161,\n",
              " 'captained mumbai indians': 93,\n",
              " 'mumbai indians and': 349,\n",
              " 'indians and the': 281,\n",
              " 'and the team': 37,\n",
              " 'the team has': 517,\n",
              " 'team has won': 456,\n",
              " 'has won five': 176,\n",
              " 'won five indian': 598,\n",
              " 'five indian premier': 146,\n",
              " 'premier league titles': 407,\n",
              " 'league titles in': 321,\n",
              " 'titles in and': 541,\n",
              " 'in and under': 232,\n",
              " 'and under him': 39,\n",
              " 'under him making': 565,\n",
              " 'him making him': 201,\n",
              " 'making him the': 323,\n",
              " 'him the most': 203,\n",
              " 'the most successful': 501,\n",
              " 'most successful captain': 344,\n",
              " 'successful captain in': 454,\n",
              " 'captain in ipl': 83,\n",
              " 'in ipl history': 247,\n",
              " 'ipl history sharing': 297,\n",
              " 'history sharing this': 210,\n",
              " 'sharing this record': 444,\n",
              " 'this record with': 533,\n",
              " 'record with ms': 418,\n",
              " 'with ms dhoni': 596,\n",
              " 'also one': 12,\n",
              " 'of two': 379,\n",
              " 'two players': 560,\n",
              " 'players who': 401,\n",
              " 'who have': 583,\n",
              " 'have played': 177,\n",
              " 'played in': 395,\n",
              " 'in every': 237,\n",
              " 'every edition': 137,\n",
              " 'edition of': 133,\n",
              " 'cup from': 117,\n",
              " 'from the': 163,\n",
              " 'the inaugural': 490,\n",
              " 'inaugural edition': 264,\n",
              " 'edition in': 131,\n",
              " 'in to': 260,\n",
              " 'to the': 544,\n",
              " 'the latest': 494,\n",
              " 'latest one': 314,\n",
              " 'one in': 383,\n",
              " 'is also one': 300,\n",
              " 'also one of': 13,\n",
              " 'one of two': 386,\n",
              " 'of two players': 380,\n",
              " 'two players who': 561,\n",
              " 'players who have': 402,\n",
              " 'who have played': 584,\n",
              " 'have played in': 178,\n",
              " 'played in every': 396,\n",
              " 'in every edition': 238,\n",
              " 'every edition of': 138,\n",
              " 'edition of the': 134,\n",
              " 'of the world': 377,\n",
              " 'world cup from': 606,\n",
              " 'cup from the': 118,\n",
              " 'from the inaugural': 164,\n",
              " 'the inaugural edition': 491,\n",
              " 'inaugural edition in': 265,\n",
              " 'edition in to': 132,\n",
              " 'in to the': 261,\n",
              " 'to the latest': 545,\n",
              " 'the latest one': 495,\n",
              " 'latest one in': 315,\n",
              " 'the only': 504,\n",
              " 'only indian': 389,\n",
              " 'indian player': 276,\n",
              " 'player to': 399,\n",
              " 'to win': 546,\n",
              " 'win two': 589,\n",
              " 'two world': 562,\n",
              " 'is the only': 307,\n",
              " 'the only indian': 505,\n",
              " 'only indian player': 390,\n",
              " 'indian player to': 277,\n",
              " 'player to win': 400,\n",
              " 'to win two': 547,\n",
              " 'win two world': 590,\n",
              " 'two world cups': 563,\n",
              " 'he became': 183,\n",
              " 'became the': 72,\n",
              " 'the second': 512,\n",
              " 'second indian': 435,\n",
              " 'indian captain': 272,\n",
              " 'win world': 591,\n",
              " 'he became the': 184,\n",
              " 'became the second': 73,\n",
              " 'the second indian': 513,\n",
              " 'second indian captain': 436,\n",
              " 'indian captain to': 273,\n",
              " 'captain to win': 89,\n",
              " 'to win world': 548,\n",
              " 'win world cup': 592,\n",
              " 'he has': 187,\n",
              " 'has received': 173,\n",
              " 'received two': 412,\n",
              " 'two national': 558,\n",
              " 'national honours': 351,\n",
              " 'honours the': 216,\n",
              " 'the arjuna': 468,\n",
              " 'arjuna award': 46,\n",
              " 'the prestigious': 508,\n",
              " 'prestigious khel': 408,\n",
              " 'khel ratna': 312,\n",
              " 'ratna award': 410,\n",
              " 'in by': 233,\n",
              " 'by the': 80,\n",
              " 'the government': 481,\n",
              " 'government of': 165,\n",
              " 'of india': 369,\n",
              " 'he has received': 188,\n",
              " 'has received two': 174,\n",
              " 'received two national': 413,\n",
              " 'two national honours': 559,\n",
              " 'national honours the': 352,\n",
              " 'honours the arjuna': 217,\n",
              " 'the arjuna award': 469,\n",
              " 'arjuna award in': 47,\n",
              " 'award in and': 62,\n",
              " 'in and the': 231,\n",
              " 'and the prestigious': 36,\n",
              " 'the prestigious khel': 509,\n",
              " 'prestigious khel ratna': 409,\n",
              " 'khel ratna award': 313,\n",
              " 'ratna award in': 411,\n",
              " 'award in by': 63,\n",
              " 'in by the': 234,\n",
              " 'by the government': 81,\n",
              " 'the government of': 482,\n",
              " 'government of india': 166,\n",
              " 'under his': 566,\n",
              " 'his captaincy': 204,\n",
              " 'captaincy india': 90,\n",
              " 'india won': 270,\n",
              " 'the asia': 470,\n",
              " 'asia cup': 54,\n",
              " 'cup and': 113,\n",
              " 'the seventh': 514,\n",
              " 'seventh and': 439,\n",
              " 'and eighth': 20,\n",
              " 'eighth time': 135,\n",
              " 'time the': 536,\n",
              " 'the country': 476,\n",
              " 'country won': 101,\n",
              " 'the title': 521,\n",
              " 'title both': 538,\n",
              " 'both in': 78,\n",
              " 'odi format': 363,\n",
              " 'format as': 156,\n",
              " 'as well': 52,\n",
              " 'well as': 575,\n",
              " 'as the': 50,\n",
              " 'the nidahas': 502,\n",
              " 'nidahas trophy': 355,\n",
              " 'trophy their': 552,\n",
              " 'their second': 530,\n",
              " 'second overall': 437,\n",
              " 'overall and': 393,\n",
              " 'and first': 22,\n",
              " 'first in': 141,\n",
              " 'in format': 239,\n",
              " 'under his captaincy': 567,\n",
              " 'his captaincy india': 205,\n",
              " 'captaincy india won': 91,\n",
              " 'india won the': 271,\n",
              " 'won the asia': 600,\n",
              " 'the asia cup': 471,\n",
              " 'asia cup and': 55,\n",
              " 'cup and the': 114,\n",
              " 'and the asia': 34,\n",
              " 'asia cup the': 56,\n",
              " 'cup the seventh': 123,\n",
              " 'the seventh and': 515,\n",
              " 'seventh and eighth': 440,\n",
              " 'and eighth time': 21,\n",
              " 'eighth time the': 136,\n",
              " 'time the country': 537,\n",
              " 'the country won': 477,\n",
              " 'country won the': 102,\n",
              " 'won the title': 602,\n",
              " 'the title both': 522,\n",
              " 'title both in': 539,\n",
              " 'both in odi': 79,\n",
              " 'in odi format': 250,\n",
              " 'odi format as': 364,\n",
              " 'format as well': 157,\n",
              " 'as well as': 53,\n",
              " 'well as the': 576,\n",
              " 'as the nidahas': 51,\n",
              " 'the nidahas trophy': 503,\n",
              " 'nidahas trophy their': 356,\n",
              " 'trophy their second': 553,\n",
              " 'their second overall': 531,\n",
              " 'second overall and': 438,\n",
              " 'overall and first': 394,\n",
              " 'and first in': 23,\n",
              " 'first in format': 142}"
            ]
          },
          "metadata": {},
          "execution_count": 119
        }
      ]
    },
    {
      "cell_type": "code",
      "source": [
        "X[0].toarray()"
      ],
      "metadata": {
        "colab": {
          "base_uri": "https://localhost:8080/"
        },
        "id": "sNzA6JRhLpq5",
        "outputId": "8b1aa2b6-6f75-4fc5-9b90-db07294ed27d"
      },
      "execution_count": 120,
      "outputs": [
        {
          "output_type": "execute_result",
          "data": {
            "text/plain": [
              "array([[0, 0, 0, 0, 0, 0, 0, 0, 0, 0, 0, 0, 0, 0, 0, 0, 1, 1, 0, 0, 0, 0,\n",
              "        0, 0, 0, 0, 0, 0, 0, 0, 0, 0, 0, 1, 0, 1, 0, 0, 0, 0, 0, 0, 0, 0,\n",
              "        1, 1, 0, 0, 0, 0, 0, 0, 0, 0, 0, 0, 0, 0, 0, 0, 0, 0, 0, 0, 0, 0,\n",
              "        0, 0, 0, 0, 0, 0, 0, 0, 0, 0, 1, 1, 0, 0, 0, 0, 0, 0, 0, 1, 1, 0,\n",
              "        0, 0, 0, 0, 0, 0, 0, 0, 0, 0, 0, 0, 0, 0, 0, 0, 0, 0, 0, 0, 0, 1,\n",
              "        1, 0, 0, 0, 0, 0, 0, 0, 0, 0, 0, 0, 0, 0, 0, 0, 0, 0, 0, 0, 0, 0,\n",
              "        0, 0, 0, 0, 0, 0, 0, 0, 0, 0, 0, 0, 0, 0, 0, 0, 0, 0, 0, 0, 0, 0,\n",
              "        0, 0, 0, 0, 0, 0, 0, 0, 0, 0, 0, 0, 0, 0, 0, 1, 1, 0, 0, 0, 0, 0,\n",
              "        0, 0, 0, 0, 0, 0, 0, 0, 0, 0, 0, 0, 0, 0, 0, 0, 0, 0, 0, 0, 0, 0,\n",
              "        0, 0, 0, 0, 0, 0, 0, 0, 0, 0, 0, 0, 0, 0, 0, 0, 0, 0, 0, 0, 0, 0,\n",
              "        0, 0, 0, 0, 0, 0, 0, 0, 0, 0, 0, 0, 0, 0, 0, 0, 0, 0, 0, 0, 0, 0,\n",
              "        0, 0, 0, 0, 0, 0, 0, 0, 0, 1, 0, 0, 0, 0, 0, 0, 0, 0, 0, 0, 0, 0,\n",
              "        0, 0, 0, 0, 1, 1, 0, 0, 0, 0, 1, 1, 0, 0, 0, 0, 0, 0, 0, 0, 0, 0,\n",
              "        0, 0, 1, 1, 0, 0, 0, 0, 0, 0, 0, 0, 0, 0, 0, 1, 1, 0, 0, 0, 0, 0,\n",
              "        0, 0, 0, 0, 0, 0, 0, 0, 0, 0, 0, 0, 0, 0, 0, 0, 0, 0, 0, 0, 0, 0,\n",
              "        0, 0, 0, 0, 0, 0, 0, 0, 0, 0, 0, 0, 0, 0, 0, 0, 0, 0, 0, 0, 0, 0,\n",
              "        0, 1, 1, 0, 0, 0, 0, 0, 0, 0, 0, 0, 0, 0, 0, 0, 0, 0, 1, 0, 0, 0,\n",
              "        1, 0, 0, 0, 0, 0, 0, 0, 0, 0, 0, 0, 0, 0, 0, 0, 0, 0, 0, 0, 0, 0,\n",
              "        0, 0, 0, 0, 0, 0, 0, 0, 0, 0, 0, 0, 0, 0, 0, 0, 0, 0, 0, 0, 0, 0,\n",
              "        0, 0, 0, 0, 0, 0, 0, 0, 0, 1, 1, 0, 0, 0, 0, 0, 0, 0, 0, 0, 0, 0,\n",
              "        0, 0, 0, 0, 0, 1, 1, 0, 0, 0, 0, 0, 0, 0, 0, 0, 0, 1, 0, 1, 0, 0,\n",
              "        0, 0, 0, 0, 0, 0, 0, 0, 0, 0, 0, 0, 1, 1, 0, 0, 0, 0, 0, 0, 0, 0,\n",
              "        0, 0, 0, 0, 0, 0, 0, 0, 1, 1, 0, 0, 0, 0, 0, 0, 0, 0, 0, 0, 0, 0,\n",
              "        0, 0, 0, 0, 0, 0, 0, 0, 0, 0, 0, 0, 0, 0, 0, 0, 0, 0, 0, 0, 0, 0,\n",
              "        0, 0, 0, 0, 0, 0, 0, 0, 0, 0, 0, 0, 0, 0, 0, 0, 0, 0, 0, 0, 0, 0,\n",
              "        0, 0, 0, 0, 0, 0, 0, 0, 0, 0, 0, 0, 0, 0, 0, 0, 0, 0, 0, 0, 0, 0,\n",
              "        0, 0, 0, 0, 0, 0, 0, 0, 0, 0, 0, 0, 0, 0, 0, 0, 0, 0, 0, 0, 0, 0,\n",
              "        0, 0, 0, 0, 0, 0, 0, 0, 0, 0, 0, 0, 0, 0, 0, 0, 0, 0, 0, 0, 0]])"
            ]
          },
          "metadata": {},
          "execution_count": 120
        }
      ]
    },
    {
      "cell_type": "code",
      "source": [
        "from sklearn.feature_extraction.text import TfidfVectorizer\n",
        "cv = TfidfVectorizer(ngram_range=(3, 3), max_features=3) # max_feature means top 3 max features"
      ],
      "metadata": {
        "id": "dLnUsawQU8pW"
      },
      "execution_count": 131,
      "outputs": []
    },
    {
      "cell_type": "code",
      "source": [
        "X[0].toarray()"
      ],
      "metadata": {
        "colab": {
          "base_uri": "https://localhost:8080/"
        },
        "id": "Srs5mQG4VQWA",
        "outputId": "1e569ba3-b298-4296-b8aa-a87bf317417e"
      },
      "execution_count": 132,
      "outputs": [
        {
          "output_type": "execute_result",
          "data": {
            "text/plain": [
              "array([[0., 0., 0.]])"
            ]
          },
          "metadata": {},
          "execution_count": 132
        }
      ]
    }
  ]
}